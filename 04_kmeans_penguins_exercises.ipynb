{
 "cells": [
  {
   "cell_type": "markdown",
   "metadata": {
    "id": "cK-NM_kEvv-A"
   },
   "source": [
    "# Data\n",
    "The dataset contains data for 344 penguins. There are 3 different species of penguins in this dataset, collected from 3 islands in the Palmer Archipelago, Antarctica."
   ]
  },
  {
   "cell_type": "markdown",
   "metadata": {
    "id": "2IeDudcrxK0m"
   },
   "source": [
    "\n",
    "<img src=\"https://previews.123rf.com/images/aomeditor/aomeditor1903/aomeditor190300021/122254680-illustrator-of-body-parts-of-penguin.jpg\" width= \"500\">\n"
   ]
  },
  {
   "cell_type": "markdown",
   "metadata": {
    "id": "Am3IGUegu4Gn"
   },
   "source": [
    "## Columns in the dataset\n",
    "* **species**: penguin species (Chinstrap, Adélie, or Gentoo)\n",
    "* **island**: island name (Dream, Torgersen, or Biscoe) in the Palmer Archipelago (Antarctica)\n",
    "* **bill_length_mm**: bill length (mm)\n",
    "* **bill_depth_mm**: bill depth (mm)\n",
    "* **flipper_length_mm**: flipper length (mm)\n",
    "* **body_mass_g**: body mass (g)\n",
    "* **sex**: penguin sex"
   ]
  },
  {
   "cell_type": "code",
   "execution_count": 1,
   "metadata": {
    "executionInfo": {
     "elapsed": 965,
     "status": "ok",
     "timestamp": 1602823726143,
     "user": {
      "displayName": "Francisco Diego",
      "photoUrl": "https://lh3.googleusercontent.com/a-/AOh14GgwQq94x1OCPd1nf0AYt7aqPyOxkGStnp-o2E0wxz0=s64",
      "userId": "03428838619161209840"
     },
     "user_tz": -120
    },
    "id": "iYLRFgtbumLz"
   },
   "outputs": [],
   "source": [
    "import pandas as pd"
   ]
  },
  {
   "cell_type": "code",
   "execution_count": 2,
   "metadata": {
    "executionInfo": {
     "elapsed": 1316,
     "status": "ok",
     "timestamp": 1602823750860,
     "user": {
      "displayName": "Francisco Diego",
      "photoUrl": "https://lh3.googleusercontent.com/a-/AOh14GgwQq94x1OCPd1nf0AYt7aqPyOxkGStnp-o2E0wxz0=s64",
      "userId": "03428838619161209840"
     },
     "user_tz": -120
    },
    "id": "2WsGXKhtvR-H"
   },
   "outputs": [],
   "source": [
    "data_path = 'https://raw.githubusercontent.com/frandiego/data/master/penguins.csv'\n",
    "df = pd.read_csv(data_path)"
   ]
  },
  {
   "cell_type": "code",
   "execution_count": 3,
   "metadata": {
    "colab": {
     "base_uri": "https://localhost:8080/",
     "height": 407
    },
    "executionInfo": {
     "elapsed": 821,
     "status": "ok",
     "timestamp": 1602823751683,
     "user": {
      "displayName": "Francisco Diego",
      "photoUrl": "https://lh3.googleusercontent.com/a-/AOh14GgwQq94x1OCPd1nf0AYt7aqPyOxkGStnp-o2E0wxz0=s64",
      "userId": "03428838619161209840"
     },
     "user_tz": -120
    },
    "id": "TiiOV03fvX5n",
    "outputId": "614b63d8-a866-40b1-9da9-911433fa1acb"
   },
   "outputs": [
    {
     "data": {
      "text/html": [
       "<div>\n",
       "<style scoped>\n",
       "    .dataframe tbody tr th:only-of-type {\n",
       "        vertical-align: middle;\n",
       "    }\n",
       "\n",
       "    .dataframe tbody tr th {\n",
       "        vertical-align: top;\n",
       "    }\n",
       "\n",
       "    .dataframe thead th {\n",
       "        text-align: right;\n",
       "    }\n",
       "</style>\n",
       "<table border=\"1\" class=\"dataframe\">\n",
       "  <thead>\n",
       "    <tr style=\"text-align: right;\">\n",
       "      <th></th>\n",
       "      <th>species</th>\n",
       "      <th>island</th>\n",
       "      <th>bill_length_mm</th>\n",
       "      <th>bill_depth_mm</th>\n",
       "      <th>flipper_length_mm</th>\n",
       "      <th>body_mass_g</th>\n",
       "      <th>sex</th>\n",
       "      <th>year</th>\n",
       "    </tr>\n",
       "  </thead>\n",
       "  <tbody>\n",
       "    <tr>\n",
       "      <th>0</th>\n",
       "      <td>Adelie</td>\n",
       "      <td>Torgersen</td>\n",
       "      <td>39.1</td>\n",
       "      <td>18.7</td>\n",
       "      <td>181.0</td>\n",
       "      <td>3750.0</td>\n",
       "      <td>male</td>\n",
       "      <td>2007</td>\n",
       "    </tr>\n",
       "    <tr>\n",
       "      <th>1</th>\n",
       "      <td>Adelie</td>\n",
       "      <td>Torgersen</td>\n",
       "      <td>39.5</td>\n",
       "      <td>17.4</td>\n",
       "      <td>186.0</td>\n",
       "      <td>3800.0</td>\n",
       "      <td>female</td>\n",
       "      <td>2007</td>\n",
       "    </tr>\n",
       "    <tr>\n",
       "      <th>2</th>\n",
       "      <td>Adelie</td>\n",
       "      <td>Torgersen</td>\n",
       "      <td>40.3</td>\n",
       "      <td>18.0</td>\n",
       "      <td>195.0</td>\n",
       "      <td>3250.0</td>\n",
       "      <td>female</td>\n",
       "      <td>2007</td>\n",
       "    </tr>\n",
       "    <tr>\n",
       "      <th>3</th>\n",
       "      <td>Adelie</td>\n",
       "      <td>Torgersen</td>\n",
       "      <td>NaN</td>\n",
       "      <td>NaN</td>\n",
       "      <td>NaN</td>\n",
       "      <td>NaN</td>\n",
       "      <td>NaN</td>\n",
       "      <td>2007</td>\n",
       "    </tr>\n",
       "    <tr>\n",
       "      <th>4</th>\n",
       "      <td>Adelie</td>\n",
       "      <td>Torgersen</td>\n",
       "      <td>36.7</td>\n",
       "      <td>19.3</td>\n",
       "      <td>193.0</td>\n",
       "      <td>3450.0</td>\n",
       "      <td>female</td>\n",
       "      <td>2007</td>\n",
       "    </tr>\n",
       "    <tr>\n",
       "      <th>...</th>\n",
       "      <td>...</td>\n",
       "      <td>...</td>\n",
       "      <td>...</td>\n",
       "      <td>...</td>\n",
       "      <td>...</td>\n",
       "      <td>...</td>\n",
       "      <td>...</td>\n",
       "      <td>...</td>\n",
       "    </tr>\n",
       "    <tr>\n",
       "      <th>339</th>\n",
       "      <td>Chinstrap</td>\n",
       "      <td>Dream</td>\n",
       "      <td>55.8</td>\n",
       "      <td>19.8</td>\n",
       "      <td>207.0</td>\n",
       "      <td>4000.0</td>\n",
       "      <td>male</td>\n",
       "      <td>2009</td>\n",
       "    </tr>\n",
       "    <tr>\n",
       "      <th>340</th>\n",
       "      <td>Chinstrap</td>\n",
       "      <td>Dream</td>\n",
       "      <td>43.5</td>\n",
       "      <td>18.1</td>\n",
       "      <td>202.0</td>\n",
       "      <td>3400.0</td>\n",
       "      <td>female</td>\n",
       "      <td>2009</td>\n",
       "    </tr>\n",
       "    <tr>\n",
       "      <th>341</th>\n",
       "      <td>Chinstrap</td>\n",
       "      <td>Dream</td>\n",
       "      <td>49.6</td>\n",
       "      <td>18.2</td>\n",
       "      <td>193.0</td>\n",
       "      <td>3775.0</td>\n",
       "      <td>male</td>\n",
       "      <td>2009</td>\n",
       "    </tr>\n",
       "    <tr>\n",
       "      <th>342</th>\n",
       "      <td>Chinstrap</td>\n",
       "      <td>Dream</td>\n",
       "      <td>50.8</td>\n",
       "      <td>19.0</td>\n",
       "      <td>210.0</td>\n",
       "      <td>4100.0</td>\n",
       "      <td>male</td>\n",
       "      <td>2009</td>\n",
       "    </tr>\n",
       "    <tr>\n",
       "      <th>343</th>\n",
       "      <td>Chinstrap</td>\n",
       "      <td>Dream</td>\n",
       "      <td>50.2</td>\n",
       "      <td>18.7</td>\n",
       "      <td>198.0</td>\n",
       "      <td>3775.0</td>\n",
       "      <td>female</td>\n",
       "      <td>2009</td>\n",
       "    </tr>\n",
       "  </tbody>\n",
       "</table>\n",
       "<p>344 rows × 8 columns</p>\n",
       "</div>"
      ],
      "text/plain": [
       "       species     island  bill_length_mm  bill_depth_mm  flipper_length_mm  \\\n",
       "0       Adelie  Torgersen            39.1           18.7              181.0   \n",
       "1       Adelie  Torgersen            39.5           17.4              186.0   \n",
       "2       Adelie  Torgersen            40.3           18.0              195.0   \n",
       "3       Adelie  Torgersen             NaN            NaN                NaN   \n",
       "4       Adelie  Torgersen            36.7           19.3              193.0   \n",
       "..         ...        ...             ...            ...                ...   \n",
       "339  Chinstrap      Dream            55.8           19.8              207.0   \n",
       "340  Chinstrap      Dream            43.5           18.1              202.0   \n",
       "341  Chinstrap      Dream            49.6           18.2              193.0   \n",
       "342  Chinstrap      Dream            50.8           19.0              210.0   \n",
       "343  Chinstrap      Dream            50.2           18.7              198.0   \n",
       "\n",
       "     body_mass_g     sex  year  \n",
       "0         3750.0    male  2007  \n",
       "1         3800.0  female  2007  \n",
       "2         3250.0  female  2007  \n",
       "3            NaN     NaN  2007  \n",
       "4         3450.0  female  2007  \n",
       "..           ...     ...   ...  \n",
       "339       4000.0    male  2009  \n",
       "340       3400.0  female  2009  \n",
       "341       3775.0    male  2009  \n",
       "342       4100.0    male  2009  \n",
       "343       3775.0  female  2009  \n",
       "\n",
       "[344 rows x 8 columns]"
      ]
     },
     "execution_count": 3,
     "metadata": {},
     "output_type": "execute_result"
    }
   ],
   "source": [
    "df"
   ]
  },
  {
   "cell_type": "markdown",
   "metadata": {
    "id": "dP1MMNeGv2me"
   },
   "source": [
    "# Tidy"
   ]
  },
  {
   "cell_type": "markdown",
   "metadata": {
    "id": "ZBN9Euaov7Ls"
   },
   "source": [
    "## **Exercise 1** . Check data types of the dataset"
   ]
  },
  {
   "cell_type": "code",
   "execution_count": 4,
   "metadata": {
    "colab": {
     "base_uri": "https://localhost:8080/",
     "height": 173
    },
    "executionInfo": {
     "elapsed": 906,
     "status": "ok",
     "timestamp": 1602823891415,
     "user": {
      "displayName": "Francisco Diego",
      "photoUrl": "https://lh3.googleusercontent.com/a-/AOh14GgwQq94x1OCPd1nf0AYt7aqPyOxkGStnp-o2E0wxz0=s64",
      "userId": "03428838619161209840"
     },
     "user_tz": -120
    },
    "id": "ovqKZEMLvYL5",
    "outputId": "2b896b05-5e23-407d-dcb0-cd68f593f687"
   },
   "outputs": [
    {
     "data": {
      "text/plain": [
       "species               object\n",
       "island                object\n",
       "bill_length_mm       float64\n",
       "bill_depth_mm        float64\n",
       "flipper_length_mm    float64\n",
       "body_mass_g          float64\n",
       "sex                   object\n",
       "year                   int64\n",
       "dtype: object"
      ]
     },
     "execution_count": 4,
     "metadata": {},
     "output_type": "execute_result"
    }
   ],
   "source": [
    "# your code here"
   ]
  },
  {
   "cell_type": "markdown",
   "metadata": {
    "id": "fkBXzZmEwELY"
   },
   "source": [
    "## **Exercise 2** . Calcule the number (and percentage) of NAs per column"
   ]
  },
  {
   "cell_type": "code",
   "execution_count": 5,
   "metadata": {
    "colab": {
     "base_uri": "https://localhost:8080/",
     "height": 173
    },
    "executionInfo": {
     "elapsed": 1150,
     "status": "ok",
     "timestamp": 1602823957364,
     "user": {
      "displayName": "Francisco Diego",
      "photoUrl": "https://lh3.googleusercontent.com/a-/AOh14GgwQq94x1OCPd1nf0AYt7aqPyOxkGStnp-o2E0wxz0=s64",
      "userId": "03428838619161209840"
     },
     "user_tz": -120
    },
    "id": "1os0BrChv4IB",
    "outputId": "062f349c-5ec5-4a62-a731-7d2eedba38dd"
   },
   "outputs": [
    {
     "data": {
      "text/plain": [
       "species               0\n",
       "island                0\n",
       "bill_length_mm        2\n",
       "bill_depth_mm         2\n",
       "flipper_length_mm     2\n",
       "body_mass_g           2\n",
       "sex                  11\n",
       "year                  0\n",
       "dtype: int64"
      ]
     },
     "execution_count": 5,
     "metadata": {},
     "output_type": "execute_result"
    }
   ],
   "source": [
    "# your code here"
   ]
  },
  {
   "cell_type": "code",
   "execution_count": 6,
   "metadata": {
    "colab": {
     "base_uri": "https://localhost:8080/",
     "height": 173
    },
    "executionInfo": {
     "elapsed": 842,
     "status": "ok",
     "timestamp": 1602823964041,
     "user": {
      "displayName": "Francisco Diego",
      "photoUrl": "https://lh3.googleusercontent.com/a-/AOh14GgwQq94x1OCPd1nf0AYt7aqPyOxkGStnp-o2E0wxz0=s64",
      "userId": "03428838619161209840"
     },
     "user_tz": -120
    },
    "id": "e9LblauWwEpN",
    "outputId": "dd4d7390-f4a5-4dc2-938f-6d5790e71147"
   },
   "outputs": [
    {
     "data": {
      "text/plain": [
       "species              0.000000\n",
       "island               0.000000\n",
       "bill_length_mm       0.005814\n",
       "bill_depth_mm        0.005814\n",
       "flipper_length_mm    0.005814\n",
       "body_mass_g          0.005814\n",
       "sex                  0.031977\n",
       "year                 0.000000\n",
       "dtype: float64"
      ]
     },
     "execution_count": 6,
     "metadata": {},
     "output_type": "execute_result"
    }
   ],
   "source": [
    "# your code here"
   ]
  },
  {
   "cell_type": "markdown",
   "metadata": {
    "id": "_5wey5DPwv3q"
   },
   "source": [
    "## **Exercise 3** . Remove all rows with any NA\n",
    "\n"
   ]
  },
  {
   "cell_type": "code",
   "execution_count": 7,
   "metadata": {
    "executionInfo": {
     "elapsed": 1454,
     "status": "ok",
     "timestamp": 1602824120074,
     "user": {
      "displayName": "Francisco Diego",
      "photoUrl": "https://lh3.googleusercontent.com/a-/AOh14GgwQq94x1OCPd1nf0AYt7aqPyOxkGStnp-o2E0wxz0=s64",
      "userId": "03428838619161209840"
     },
     "user_tz": -120
    },
    "id": "E0rNEFtTwL7v"
   },
   "outputs": [],
   "source": [
    "# your code here"
   ]
  },
  {
   "cell_type": "markdown",
   "metadata": {
    "id": "3_eJGV-nxEY5"
   },
   "source": [
    "## **Exercise 4** . Our model will be independent of time, eliminating the year column"
   ]
  },
  {
   "cell_type": "code",
   "execution_count": 9,
   "metadata": {
    "colab": {
     "base_uri": "https://localhost:8080/",
     "height": 104
    },
    "executionInfo": {
     "elapsed": 1406,
     "status": "ok",
     "timestamp": 1602824410559,
     "user": {
      "displayName": "Francisco Diego",
      "photoUrl": "https://lh3.googleusercontent.com/a-/AOh14GgwQq94x1OCPd1nf0AYt7aqPyOxkGStnp-o2E0wxz0=s64",
      "userId": "03428838619161209840"
     },
     "user_tz": -120
    },
    "id": "w3wrCu7AwzXl",
    "outputId": "193e5461-4e71-4749-8db5-2ed007a0fbf8"
   },
   "outputs": [],
   "source": [
    "# your code here"
   ]
  },
  {
   "cell_type": "markdown",
   "metadata": {
    "id": "C2mEnnyYzJhn"
   },
   "source": [
    "### Let's use the `LabelEncoder` to convert the column `species` to integer"
   ]
  },
  {
   "cell_type": "code",
   "execution_count": null,
   "metadata": {},
   "outputs": [],
   "source": [
    "from sklearn.preprocessing import LabelEncoder"
   ]
  },
  {
   "cell_type": "code",
   "execution_count": 11,
   "metadata": {
    "colab": {
     "base_uri": "https://localhost:8080/",
     "height": 121
    },
    "executionInfo": {
     "elapsed": 895,
     "status": "ok",
     "timestamp": 1602824823249,
     "user": {
      "displayName": "Francisco Diego",
      "photoUrl": "https://lh3.googleusercontent.com/a-/AOh14GgwQq94x1OCPd1nf0AYt7aqPyOxkGStnp-o2E0wxz0=s64",
      "userId": "03428838619161209840"
     },
     "user_tz": -120
    },
    "id": "Y9GFo3KZzUYS",
    "outputId": "2d6d1cc0-79fa-484c-8c14-c83bc8f38ee3"
   },
   "outputs": [],
   "source": [
    "# your code here"
   ]
  },
  {
   "cell_type": "code",
   "execution_count": 12,
   "metadata": {
    "colab": {
     "base_uri": "https://localhost:8080/",
     "height": 228
    },
    "executionInfo": {
     "elapsed": 1072,
     "status": "ok",
     "timestamp": 1602824931178,
     "user": {
      "displayName": "Francisco Diego",
      "photoUrl": "https://lh3.googleusercontent.com/a-/AOh14GgwQq94x1OCPd1nf0AYt7aqPyOxkGStnp-o2E0wxz0=s64",
      "userId": "03428838619161209840"
     },
     "user_tz": -120
    },
    "id": "wgKfpJvOzUd4",
    "outputId": "09264387-20f0-46dd-eb0c-4f6cc2d7f2eb"
   },
   "outputs": [
    {
     "data": {
      "text/html": [
       "<div>\n",
       "<style scoped>\n",
       "    .dataframe tbody tr th:only-of-type {\n",
       "        vertical-align: middle;\n",
       "    }\n",
       "\n",
       "    .dataframe tbody tr th {\n",
       "        vertical-align: top;\n",
       "    }\n",
       "\n",
       "    .dataframe thead th {\n",
       "        text-align: right;\n",
       "    }\n",
       "</style>\n",
       "<table border=\"1\" class=\"dataframe\">\n",
       "  <thead>\n",
       "    <tr style=\"text-align: right;\">\n",
       "      <th></th>\n",
       "      <th>species</th>\n",
       "      <th>island</th>\n",
       "      <th>bill_length_mm</th>\n",
       "      <th>bill_depth_mm</th>\n",
       "      <th>flipper_length_mm</th>\n",
       "      <th>body_mass_g</th>\n",
       "      <th>sex</th>\n",
       "      <th>species_integer</th>\n",
       "    </tr>\n",
       "  </thead>\n",
       "  <tbody>\n",
       "    <tr>\n",
       "      <th>65</th>\n",
       "      <td>Adelie</td>\n",
       "      <td>Biscoe</td>\n",
       "      <td>41.6</td>\n",
       "      <td>18.0</td>\n",
       "      <td>192.0</td>\n",
       "      <td>3950.0</td>\n",
       "      <td>male</td>\n",
       "      <td>0</td>\n",
       "    </tr>\n",
       "    <tr>\n",
       "      <th>280</th>\n",
       "      <td>Chinstrap</td>\n",
       "      <td>Dream</td>\n",
       "      <td>52.7</td>\n",
       "      <td>19.8</td>\n",
       "      <td>197.0</td>\n",
       "      <td>3725.0</td>\n",
       "      <td>male</td>\n",
       "      <td>1</td>\n",
       "    </tr>\n",
       "    <tr>\n",
       "      <th>187</th>\n",
       "      <td>Gentoo</td>\n",
       "      <td>Biscoe</td>\n",
       "      <td>48.4</td>\n",
       "      <td>16.3</td>\n",
       "      <td>220.0</td>\n",
       "      <td>5400.0</td>\n",
       "      <td>male</td>\n",
       "      <td>2</td>\n",
       "    </tr>\n",
       "    <tr>\n",
       "      <th>199</th>\n",
       "      <td>Gentoo</td>\n",
       "      <td>Biscoe</td>\n",
       "      <td>50.5</td>\n",
       "      <td>15.9</td>\n",
       "      <td>225.0</td>\n",
       "      <td>5400.0</td>\n",
       "      <td>male</td>\n",
       "      <td>2</td>\n",
       "    </tr>\n",
       "    <tr>\n",
       "      <th>296</th>\n",
       "      <td>Chinstrap</td>\n",
       "      <td>Dream</td>\n",
       "      <td>42.4</td>\n",
       "      <td>17.3</td>\n",
       "      <td>181.0</td>\n",
       "      <td>3600.0</td>\n",
       "      <td>female</td>\n",
       "      <td>1</td>\n",
       "    </tr>\n",
       "    <tr>\n",
       "      <th>184</th>\n",
       "      <td>Gentoo</td>\n",
       "      <td>Biscoe</td>\n",
       "      <td>45.1</td>\n",
       "      <td>14.5</td>\n",
       "      <td>207.0</td>\n",
       "      <td>5050.0</td>\n",
       "      <td>female</td>\n",
       "      <td>2</td>\n",
       "    </tr>\n",
       "  </tbody>\n",
       "</table>\n",
       "</div>"
      ],
      "text/plain": [
       "       species  island  bill_length_mm  bill_depth_mm  flipper_length_mm  \\\n",
       "65      Adelie  Biscoe            41.6           18.0              192.0   \n",
       "280  Chinstrap   Dream            52.7           19.8              197.0   \n",
       "187     Gentoo  Biscoe            48.4           16.3              220.0   \n",
       "199     Gentoo  Biscoe            50.5           15.9              225.0   \n",
       "296  Chinstrap   Dream            42.4           17.3              181.0   \n",
       "184     Gentoo  Biscoe            45.1           14.5              207.0   \n",
       "\n",
       "     body_mass_g     sex  species_integer  \n",
       "65        3950.0    male                0  \n",
       "280       3725.0    male                1  \n",
       "187       5400.0    male                2  \n",
       "199       5400.0    male                2  \n",
       "296       3600.0  female                1  \n",
       "184       5050.0  female                2  "
      ]
     },
     "execution_count": 12,
     "metadata": {},
     "output_type": "execute_result"
    }
   ],
   "source": [
    "df.sample(6, random_state=1)"
   ]
  },
  {
   "cell_type": "markdown",
   "metadata": {
    "id": "efsDDSONzjrN"
   },
   "source": [
    "### Now, if we save the `label_encoder` object, we can transform back the new column"
   ]
  },
  {
   "cell_type": "code",
   "execution_count": 13,
   "metadata": {
    "id": "HL37QI6Tziz_"
   },
   "outputs": [],
   "source": [
    "# your code here"
   ]
  },
  {
   "cell_type": "code",
   "execution_count": 14,
   "metadata": {
    "colab": {
     "base_uri": "https://localhost:8080/",
     "height": 228
    },
    "executionInfo": {
     "elapsed": 1030,
     "status": "ok",
     "timestamp": 1602824937947,
     "user": {
      "displayName": "Francisco Diego",
      "photoUrl": "https://lh3.googleusercontent.com/a-/AOh14GgwQq94x1OCPd1nf0AYt7aqPyOxkGStnp-o2E0wxz0=s64",
      "userId": "03428838619161209840"
     },
     "user_tz": -120
    },
    "id": "CXjEBv44zi2l",
    "outputId": "c6689fd9-8c59-4d6a-ed45-83d685116d2a"
   },
   "outputs": [
    {
     "data": {
      "text/html": [
       "<div>\n",
       "<style scoped>\n",
       "    .dataframe tbody tr th:only-of-type {\n",
       "        vertical-align: middle;\n",
       "    }\n",
       "\n",
       "    .dataframe tbody tr th {\n",
       "        vertical-align: top;\n",
       "    }\n",
       "\n",
       "    .dataframe thead th {\n",
       "        text-align: right;\n",
       "    }\n",
       "</style>\n",
       "<table border=\"1\" class=\"dataframe\">\n",
       "  <thead>\n",
       "    <tr style=\"text-align: right;\">\n",
       "      <th></th>\n",
       "      <th>species</th>\n",
       "      <th>island</th>\n",
       "      <th>bill_length_mm</th>\n",
       "      <th>bill_depth_mm</th>\n",
       "      <th>flipper_length_mm</th>\n",
       "      <th>body_mass_g</th>\n",
       "      <th>sex</th>\n",
       "      <th>species_integer</th>\n",
       "      <th>species_character</th>\n",
       "    </tr>\n",
       "  </thead>\n",
       "  <tbody>\n",
       "    <tr>\n",
       "      <th>65</th>\n",
       "      <td>Adelie</td>\n",
       "      <td>Biscoe</td>\n",
       "      <td>41.6</td>\n",
       "      <td>18.0</td>\n",
       "      <td>192.0</td>\n",
       "      <td>3950.0</td>\n",
       "      <td>male</td>\n",
       "      <td>0</td>\n",
       "      <td>Adelie</td>\n",
       "    </tr>\n",
       "    <tr>\n",
       "      <th>280</th>\n",
       "      <td>Chinstrap</td>\n",
       "      <td>Dream</td>\n",
       "      <td>52.7</td>\n",
       "      <td>19.8</td>\n",
       "      <td>197.0</td>\n",
       "      <td>3725.0</td>\n",
       "      <td>male</td>\n",
       "      <td>1</td>\n",
       "      <td>Chinstrap</td>\n",
       "    </tr>\n",
       "    <tr>\n",
       "      <th>187</th>\n",
       "      <td>Gentoo</td>\n",
       "      <td>Biscoe</td>\n",
       "      <td>48.4</td>\n",
       "      <td>16.3</td>\n",
       "      <td>220.0</td>\n",
       "      <td>5400.0</td>\n",
       "      <td>male</td>\n",
       "      <td>2</td>\n",
       "      <td>Gentoo</td>\n",
       "    </tr>\n",
       "    <tr>\n",
       "      <th>199</th>\n",
       "      <td>Gentoo</td>\n",
       "      <td>Biscoe</td>\n",
       "      <td>50.5</td>\n",
       "      <td>15.9</td>\n",
       "      <td>225.0</td>\n",
       "      <td>5400.0</td>\n",
       "      <td>male</td>\n",
       "      <td>2</td>\n",
       "      <td>Gentoo</td>\n",
       "    </tr>\n",
       "    <tr>\n",
       "      <th>296</th>\n",
       "      <td>Chinstrap</td>\n",
       "      <td>Dream</td>\n",
       "      <td>42.4</td>\n",
       "      <td>17.3</td>\n",
       "      <td>181.0</td>\n",
       "      <td>3600.0</td>\n",
       "      <td>female</td>\n",
       "      <td>1</td>\n",
       "      <td>Chinstrap</td>\n",
       "    </tr>\n",
       "    <tr>\n",
       "      <th>184</th>\n",
       "      <td>Gentoo</td>\n",
       "      <td>Biscoe</td>\n",
       "      <td>45.1</td>\n",
       "      <td>14.5</td>\n",
       "      <td>207.0</td>\n",
       "      <td>5050.0</td>\n",
       "      <td>female</td>\n",
       "      <td>2</td>\n",
       "      <td>Gentoo</td>\n",
       "    </tr>\n",
       "  </tbody>\n",
       "</table>\n",
       "</div>"
      ],
      "text/plain": [
       "       species  island  bill_length_mm  bill_depth_mm  flipper_length_mm  \\\n",
       "65      Adelie  Biscoe            41.6           18.0              192.0   \n",
       "280  Chinstrap   Dream            52.7           19.8              197.0   \n",
       "187     Gentoo  Biscoe            48.4           16.3              220.0   \n",
       "199     Gentoo  Biscoe            50.5           15.9              225.0   \n",
       "296  Chinstrap   Dream            42.4           17.3              181.0   \n",
       "184     Gentoo  Biscoe            45.1           14.5              207.0   \n",
       "\n",
       "     body_mass_g     sex  species_integer species_character  \n",
       "65        3950.0    male                0            Adelie  \n",
       "280       3725.0    male                1         Chinstrap  \n",
       "187       5400.0    male                2            Gentoo  \n",
       "199       5400.0    male                2            Gentoo  \n",
       "296       3600.0  female                1         Chinstrap  \n",
       "184       5050.0  female                2            Gentoo  "
      ]
     },
     "execution_count": 14,
     "metadata": {},
     "output_type": "execute_result"
    }
   ],
   "source": [
    "df.sample(6, random_state=1)"
   ]
  },
  {
   "cell_type": "markdown",
   "metadata": {
    "id": "cMG9rzL3z7dV"
   },
   "source": [
    "### The `LabelEncoder` save a map between each categorie of the categorical column and an unique integer, an so, it can make the transformation in both directions. "
   ]
  },
  {
   "cell_type": "code",
   "execution_count": 15,
   "metadata": {
    "colab": {
     "base_uri": "https://localhost:8080/",
     "height": 35
    },
    "executionInfo": {
     "elapsed": 953,
     "status": "ok",
     "timestamp": 1602824993744,
     "user": {
      "displayName": "Francisco Diego",
      "photoUrl": "https://lh3.googleusercontent.com/a-/AOh14GgwQq94x1OCPd1nf0AYt7aqPyOxkGStnp-o2E0wxz0=s64",
      "userId": "03428838619161209840"
     },
     "user_tz": -120
    },
    "id": "pAIem351zi5F",
    "outputId": "0ec9e54f-f53b-4ca9-c11b-c38475834f4a"
   },
   "outputs": [
    {
     "data": {
      "text/plain": [
       "array(['Adelie', 'Chinstrap', 'Gentoo'], dtype=object)"
      ]
     },
     "execution_count": 15,
     "metadata": {},
     "output_type": "execute_result"
    }
   ],
   "source": [
    "# your code here"
   ]
  },
  {
   "cell_type": "markdown",
   "metadata": {
    "id": "OvAp8YMo0JFA"
   },
   "source": [
    "### Let's remove `species_integer` and `species_character`"
   ]
  },
  {
   "cell_type": "code",
   "execution_count": 16,
   "metadata": {
    "executionInfo": {
     "elapsed": 951,
     "status": "ok",
     "timestamp": 1602825037163,
     "user": {
      "displayName": "Francisco Diego",
      "photoUrl": "https://lh3.googleusercontent.com/a-/AOh14GgwQq94x1OCPd1nf0AYt7aqPyOxkGStnp-o2E0wxz0=s64",
      "userId": "03428838619161209840"
     },
     "user_tz": -120
    },
    "id": "2f4QDpJ_0O6u"
   },
   "outputs": [],
   "source": [
    "# your code here"
   ]
  },
  {
   "cell_type": "markdown",
   "metadata": {
    "id": "205oIXXV0SoP"
   },
   "source": [
    "### Let's make a dictionaries with a LabelEncoder per column to be transformed"
   ]
  },
  {
   "cell_type": "code",
   "execution_count": 17,
   "metadata": {
    "executionInfo": {
     "elapsed": 862,
     "status": "ok",
     "timestamp": 1602825069439,
     "user": {
      "displayName": "Francisco Diego",
      "photoUrl": "https://lh3.googleusercontent.com/a-/AOh14GgwQq94x1OCPd1nf0AYt7aqPyOxkGStnp-o2E0wxz0=s64",
      "userId": "03428838619161209840"
     },
     "user_tz": -120
    },
    "id": "z1Z9mRY_0O9K"
   },
   "outputs": [],
   "source": [
    "# your code here"
   ]
  },
  {
   "cell_type": "markdown",
   "metadata": {
    "id": "V2D96fg80boY"
   },
   "source": [
    "### Now fit each `LabelEncoder` in the dictionary"
   ]
  },
  {
   "cell_type": "code",
   "execution_count": 18,
   "metadata": {
    "executionInfo": {
     "elapsed": 1141,
     "status": "ok",
     "timestamp": 1602825097811,
     "user": {
      "displayName": "Francisco Diego",
      "photoUrl": "https://lh3.googleusercontent.com/a-/AOh14GgwQq94x1OCPd1nf0AYt7aqPyOxkGStnp-o2E0wxz0=s64",
      "userId": "03428838619161209840"
     },
     "user_tz": -120
    },
    "id": "mZH8KxsHx6Jx"
   },
   "outputs": [],
   "source": [
    "# your code here"
   ]
  },
  {
   "cell_type": "markdown",
   "metadata": {
    "id": "iv9Tr5K50hrg"
   },
   "source": [
    "### And finally transform the `LabelEncoder` it is quite important to save this dictionary because it takes an important role in the model"
   ]
  },
  {
   "cell_type": "code",
   "execution_count": 19,
   "metadata": {
    "executionInfo": {
     "elapsed": 1212,
     "status": "ok",
     "timestamp": 1602825161503,
     "user": {
      "displayName": "Francisco Diego",
      "photoUrl": "https://lh3.googleusercontent.com/a-/AOh14GgwQq94x1OCPd1nf0AYt7aqPyOxkGStnp-o2E0wxz0=s64",
      "userId": "03428838619161209840"
     },
     "user_tz": -120
    },
    "id": "T0JFyB6nyH_V"
   },
   "outputs": [],
   "source": [
    "# your code here"
   ]
  },
  {
   "cell_type": "code",
   "execution_count": 20,
   "metadata": {
    "colab": {
     "base_uri": "https://localhost:8080/",
     "height": 228
    },
    "executionInfo": {
     "elapsed": 983,
     "status": "ok",
     "timestamp": 1602825176762,
     "user": {
      "displayName": "Francisco Diego",
      "photoUrl": "https://lh3.googleusercontent.com/a-/AOh14GgwQq94x1OCPd1nf0AYt7aqPyOxkGStnp-o2E0wxz0=s64",
      "userId": "03428838619161209840"
     },
     "user_tz": -120
    },
    "id": "Z4etGYijyRj7",
    "outputId": "efd5b914-9317-4b81-b88b-c0ff42204ac8"
   },
   "outputs": [
    {
     "data": {
      "text/html": [
       "<div>\n",
       "<style scoped>\n",
       "    .dataframe tbody tr th:only-of-type {\n",
       "        vertical-align: middle;\n",
       "    }\n",
       "\n",
       "    .dataframe tbody tr th {\n",
       "        vertical-align: top;\n",
       "    }\n",
       "\n",
       "    .dataframe thead th {\n",
       "        text-align: right;\n",
       "    }\n",
       "</style>\n",
       "<table border=\"1\" class=\"dataframe\">\n",
       "  <thead>\n",
       "    <tr style=\"text-align: right;\">\n",
       "      <th></th>\n",
       "      <th>species</th>\n",
       "      <th>island</th>\n",
       "      <th>bill_length_mm</th>\n",
       "      <th>bill_depth_mm</th>\n",
       "      <th>flipper_length_mm</th>\n",
       "      <th>body_mass_g</th>\n",
       "      <th>sex</th>\n",
       "    </tr>\n",
       "  </thead>\n",
       "  <tbody>\n",
       "    <tr>\n",
       "      <th>65</th>\n",
       "      <td>0</td>\n",
       "      <td>0</td>\n",
       "      <td>41.6</td>\n",
       "      <td>18.0</td>\n",
       "      <td>192.0</td>\n",
       "      <td>3950.0</td>\n",
       "      <td>1</td>\n",
       "    </tr>\n",
       "    <tr>\n",
       "      <th>280</th>\n",
       "      <td>1</td>\n",
       "      <td>1</td>\n",
       "      <td>52.7</td>\n",
       "      <td>19.8</td>\n",
       "      <td>197.0</td>\n",
       "      <td>3725.0</td>\n",
       "      <td>1</td>\n",
       "    </tr>\n",
       "    <tr>\n",
       "      <th>187</th>\n",
       "      <td>2</td>\n",
       "      <td>0</td>\n",
       "      <td>48.4</td>\n",
       "      <td>16.3</td>\n",
       "      <td>220.0</td>\n",
       "      <td>5400.0</td>\n",
       "      <td>1</td>\n",
       "    </tr>\n",
       "    <tr>\n",
       "      <th>199</th>\n",
       "      <td>2</td>\n",
       "      <td>0</td>\n",
       "      <td>50.5</td>\n",
       "      <td>15.9</td>\n",
       "      <td>225.0</td>\n",
       "      <td>5400.0</td>\n",
       "      <td>1</td>\n",
       "    </tr>\n",
       "    <tr>\n",
       "      <th>296</th>\n",
       "      <td>1</td>\n",
       "      <td>1</td>\n",
       "      <td>42.4</td>\n",
       "      <td>17.3</td>\n",
       "      <td>181.0</td>\n",
       "      <td>3600.0</td>\n",
       "      <td>0</td>\n",
       "    </tr>\n",
       "    <tr>\n",
       "      <th>184</th>\n",
       "      <td>2</td>\n",
       "      <td>0</td>\n",
       "      <td>45.1</td>\n",
       "      <td>14.5</td>\n",
       "      <td>207.0</td>\n",
       "      <td>5050.0</td>\n",
       "      <td>0</td>\n",
       "    </tr>\n",
       "  </tbody>\n",
       "</table>\n",
       "</div>"
      ],
      "text/plain": [
       "     species  island  bill_length_mm  bill_depth_mm  flipper_length_mm  \\\n",
       "65         0       0            41.6           18.0              192.0   \n",
       "280        1       1            52.7           19.8              197.0   \n",
       "187        2       0            48.4           16.3              220.0   \n",
       "199        2       0            50.5           15.9              225.0   \n",
       "296        1       1            42.4           17.3              181.0   \n",
       "184        2       0            45.1           14.5              207.0   \n",
       "\n",
       "     body_mass_g  sex  \n",
       "65        3950.0    1  \n",
       "280       3725.0    1  \n",
       "187       5400.0    1  \n",
       "199       5400.0    1  \n",
       "296       3600.0    0  \n",
       "184       5050.0    0  "
      ]
     },
     "execution_count": 20,
     "metadata": {},
     "output_type": "execute_result"
    }
   ],
   "source": [
    "df.sample(6, random_state=1)"
   ]
  },
  {
   "cell_type": "markdown",
   "metadata": {
    "id": "CE_s0LEH1dED"
   },
   "source": [
    "## **Exercise 5** . **A clustering model is not predictive**, but we want to test the power of a Kmeans to separate penguins by class `specie`, so, knowing that our target is `specie`, we divide the dataset in X and y"
   ]
  },
  {
   "cell_type": "code",
   "execution_count": 21,
   "metadata": {
    "executionInfo": {
     "elapsed": 1048,
     "status": "ok",
     "timestamp": 1602825457643,
     "user": {
      "displayName": "Francisco Diego",
      "photoUrl": "https://lh3.googleusercontent.com/a-/AOh14GgwQq94x1OCPd1nf0AYt7aqPyOxkGStnp-o2E0wxz0=s64",
      "userId": "03428838619161209840"
     },
     "user_tz": -120
    },
    "id": "dgZAHYNIy_qi"
   },
   "outputs": [],
   "source": [
    "# your code here"
   ]
  },
  {
   "cell_type": "markdown",
   "metadata": {
    "id": "3N7w9unZ2RAR"
   },
   "source": [
    "## **Exercise 6** . **One-hot Encoder**. The previous transformation is called `LabelEncoder` or `Integer Encoding` and it's a transformation for categorical columns to transform character into integers, easy. Now we are going to apply a `One-hot Encode` or `Dummy Encode` which is also a transformation for categorical columns, but in this case, we are going a create a column for each categorie of the categorical column and fill it with zeros and ones. Question: If our categorical column has 3 categories, why do we need just two columns?\n",
    "\n",
    "***\n",
    "#### Categorical Columns\n",
    "| fruits  | \n",
    "|---|\n",
    "|orange   | \n",
    "|banana   |   \n",
    "|peach   |  \n",
    "|peach   | \n",
    "|orange   |  \n",
    "\n",
    "#### One hot encoding\n",
    "|orange   |banana   |peach  |\n",
    "|---|---|---|\n",
    "| 1  |  0 |   0|   \n",
    "| 0  |  1 |  0 |  \n",
    "| 0  | 0  |  1 | \n",
    "| 0  |  0 |  1 | \n",
    "| 1  | 0  |  0 | \n",
    "\n",
    "#### One hot encoding (one columnn (ie the last) is redundant, why)\n",
    "|orange   |banana   |\n",
    "|---|---|\n",
    "| 1  |  0 | \n",
    "| 0  |  1 | \n",
    "| 0  | 0  | \n",
    "| 0  |  0 |  \n",
    "| 1  | 0  |  \n",
    "\n",
    "#### My recomendation, first, LabelEncoder and Second OneHotEncoder, by doind this we are sure about the order of the columns\n",
    "##### First labelEncoder\n",
    "| fruits  | \n",
    "|---|\n",
    "|1   | \n",
    "|2   |   \n",
    "|3   |  \n",
    "|3   | \n",
    "|1   |\n",
    "\n",
    "##### First  One hot encoding \n",
    "|1   |2   |\n",
    "|---|---|\n",
    "| 1  |  0 | \n",
    "| 0  |  1 | \n",
    "| 0  | 0  | \n",
    "| 0  |  0 |  \n",
    "| 1  | 0  |  \n",
    "\n",
    "#### We can use the [OneHotEncoder](https://scikit-learn.org/stable/modules/generated/sklearn.preprocessing.OneHotEncoder.html) of sklearn but I prefer using the [get_dummies](https://pandas.pydata.org/docs/reference/api/pandas.get_dummies.html) of pandas"
   ]
  },
  {
   "cell_type": "code",
   "execution_count": 22,
   "metadata": {
    "executionInfo": {
     "elapsed": 894,
     "status": "ok",
     "timestamp": 1602826221544,
     "user": {
      "displayName": "Francisco Diego",
      "photoUrl": "https://lh3.googleusercontent.com/a-/AOh14GgwQq94x1OCPd1nf0AYt7aqPyOxkGStnp-o2E0wxz0=s64",
      "userId": "03428838619161209840"
     },
     "user_tz": -120
    },
    "id": "th7m08GK1PVg"
   },
   "outputs": [],
   "source": [
    "# your code here"
   ]
  },
  {
   "cell_type": "code",
   "execution_count": 23,
   "metadata": {
    "colab": {
     "base_uri": "https://localhost:8080/",
     "height": 407
    },
    "executionInfo": {
     "elapsed": 878,
     "status": "ok",
     "timestamp": 1602826226430,
     "user": {
      "displayName": "Francisco Diego",
      "photoUrl": "https://lh3.googleusercontent.com/a-/AOh14GgwQq94x1OCPd1nf0AYt7aqPyOxkGStnp-o2E0wxz0=s64",
      "userId": "03428838619161209840"
     },
     "user_tz": -120
    },
    "id": "z1FibYC-15LK",
    "outputId": "08993703-724f-48e4-dbf8-b092e820b34f"
   },
   "outputs": [
    {
     "data": {
      "text/html": [
       "<div>\n",
       "<style scoped>\n",
       "    .dataframe tbody tr th:only-of-type {\n",
       "        vertical-align: middle;\n",
       "    }\n",
       "\n",
       "    .dataframe tbody tr th {\n",
       "        vertical-align: top;\n",
       "    }\n",
       "\n",
       "    .dataframe thead th {\n",
       "        text-align: right;\n",
       "    }\n",
       "</style>\n",
       "<table border=\"1\" class=\"dataframe\">\n",
       "  <thead>\n",
       "    <tr style=\"text-align: right;\">\n",
       "      <th></th>\n",
       "      <th>bill_length_mm</th>\n",
       "      <th>bill_depth_mm</th>\n",
       "      <th>flipper_length_mm</th>\n",
       "      <th>body_mass_g</th>\n",
       "      <th>island_1</th>\n",
       "      <th>island_2</th>\n",
       "      <th>sex_1</th>\n",
       "    </tr>\n",
       "  </thead>\n",
       "  <tbody>\n",
       "    <tr>\n",
       "      <th>0</th>\n",
       "      <td>39.1</td>\n",
       "      <td>18.7</td>\n",
       "      <td>181.0</td>\n",
       "      <td>3750.0</td>\n",
       "      <td>0</td>\n",
       "      <td>1</td>\n",
       "      <td>1</td>\n",
       "    </tr>\n",
       "    <tr>\n",
       "      <th>1</th>\n",
       "      <td>39.5</td>\n",
       "      <td>17.4</td>\n",
       "      <td>186.0</td>\n",
       "      <td>3800.0</td>\n",
       "      <td>0</td>\n",
       "      <td>1</td>\n",
       "      <td>0</td>\n",
       "    </tr>\n",
       "    <tr>\n",
       "      <th>2</th>\n",
       "      <td>40.3</td>\n",
       "      <td>18.0</td>\n",
       "      <td>195.0</td>\n",
       "      <td>3250.0</td>\n",
       "      <td>0</td>\n",
       "      <td>1</td>\n",
       "      <td>0</td>\n",
       "    </tr>\n",
       "    <tr>\n",
       "      <th>4</th>\n",
       "      <td>36.7</td>\n",
       "      <td>19.3</td>\n",
       "      <td>193.0</td>\n",
       "      <td>3450.0</td>\n",
       "      <td>0</td>\n",
       "      <td>1</td>\n",
       "      <td>0</td>\n",
       "    </tr>\n",
       "    <tr>\n",
       "      <th>5</th>\n",
       "      <td>39.3</td>\n",
       "      <td>20.6</td>\n",
       "      <td>190.0</td>\n",
       "      <td>3650.0</td>\n",
       "      <td>0</td>\n",
       "      <td>1</td>\n",
       "      <td>1</td>\n",
       "    </tr>\n",
       "    <tr>\n",
       "      <th>...</th>\n",
       "      <td>...</td>\n",
       "      <td>...</td>\n",
       "      <td>...</td>\n",
       "      <td>...</td>\n",
       "      <td>...</td>\n",
       "      <td>...</td>\n",
       "      <td>...</td>\n",
       "    </tr>\n",
       "    <tr>\n",
       "      <th>339</th>\n",
       "      <td>55.8</td>\n",
       "      <td>19.8</td>\n",
       "      <td>207.0</td>\n",
       "      <td>4000.0</td>\n",
       "      <td>1</td>\n",
       "      <td>0</td>\n",
       "      <td>1</td>\n",
       "    </tr>\n",
       "    <tr>\n",
       "      <th>340</th>\n",
       "      <td>43.5</td>\n",
       "      <td>18.1</td>\n",
       "      <td>202.0</td>\n",
       "      <td>3400.0</td>\n",
       "      <td>1</td>\n",
       "      <td>0</td>\n",
       "      <td>0</td>\n",
       "    </tr>\n",
       "    <tr>\n",
       "      <th>341</th>\n",
       "      <td>49.6</td>\n",
       "      <td>18.2</td>\n",
       "      <td>193.0</td>\n",
       "      <td>3775.0</td>\n",
       "      <td>1</td>\n",
       "      <td>0</td>\n",
       "      <td>1</td>\n",
       "    </tr>\n",
       "    <tr>\n",
       "      <th>342</th>\n",
       "      <td>50.8</td>\n",
       "      <td>19.0</td>\n",
       "      <td>210.0</td>\n",
       "      <td>4100.0</td>\n",
       "      <td>1</td>\n",
       "      <td>0</td>\n",
       "      <td>1</td>\n",
       "    </tr>\n",
       "    <tr>\n",
       "      <th>343</th>\n",
       "      <td>50.2</td>\n",
       "      <td>18.7</td>\n",
       "      <td>198.0</td>\n",
       "      <td>3775.0</td>\n",
       "      <td>1</td>\n",
       "      <td>0</td>\n",
       "      <td>0</td>\n",
       "    </tr>\n",
       "  </tbody>\n",
       "</table>\n",
       "<p>333 rows × 7 columns</p>\n",
       "</div>"
      ],
      "text/plain": [
       "     bill_length_mm  bill_depth_mm  flipper_length_mm  body_mass_g  island_1  \\\n",
       "0              39.1           18.7              181.0       3750.0         0   \n",
       "1              39.5           17.4              186.0       3800.0         0   \n",
       "2              40.3           18.0              195.0       3250.0         0   \n",
       "4              36.7           19.3              193.0       3450.0         0   \n",
       "5              39.3           20.6              190.0       3650.0         0   \n",
       "..              ...            ...                ...          ...       ...   \n",
       "339            55.8           19.8              207.0       4000.0         1   \n",
       "340            43.5           18.1              202.0       3400.0         1   \n",
       "341            49.6           18.2              193.0       3775.0         1   \n",
       "342            50.8           19.0              210.0       4100.0         1   \n",
       "343            50.2           18.7              198.0       3775.0         1   \n",
       "\n",
       "     island_2  sex_1  \n",
       "0           1      1  \n",
       "1           1      0  \n",
       "2           1      0  \n",
       "4           1      0  \n",
       "5           1      1  \n",
       "..        ...    ...  \n",
       "339         0      1  \n",
       "340         0      0  \n",
       "341         0      1  \n",
       "342         0      1  \n",
       "343         0      0  \n",
       "\n",
       "[333 rows x 7 columns]"
      ]
     },
     "execution_count": 23,
     "metadata": {},
     "output_type": "execute_result"
    }
   ],
   "source": [
    "X"
   ]
  },
  {
   "cell_type": "markdown",
   "metadata": {
    "id": "3TouTlu15aM1"
   },
   "source": [
    "## **Exercise 7** . **StandardScaler**. Now we are going to apply a `StandardScaler` to the numerical colums, but first, go to the skelarn documentation and explain the differences between a `StandarScaler`, a `Normilizer` and a `RobustScaler`\n",
    "\n",
    "* [StandardScaler](https://scikit-learn.org/stable/modules/generated/sklearn.preprocessing.StandardScaler.html)\n",
    "* [Normalizer](https://scikit-learn.org/stable/modules/generated/sklearn.preprocessing.Normalizer.html)\n",
    "* [RobustScaler](https://scikit-learn.org/stable/modules/generated/sklearn.preprocessing.RobustScaler.html)"
   ]
  },
  {
   "cell_type": "code",
   "execution_count": 24,
   "metadata": {
    "executionInfo": {
     "elapsed": 797,
     "status": "ok",
     "timestamp": 1602826868914,
     "user": {
      "displayName": "Francisco Diego",
      "photoUrl": "https://lh3.googleusercontent.com/a-/AOh14GgwQq94x1OCPd1nf0AYt7aqPyOxkGStnp-o2E0wxz0=s64",
      "userId": "03428838619161209840"
     },
     "user_tz": -120
    },
    "id": "9AnpJFDb40WN"
   },
   "outputs": [],
   "source": [
    "from sklearn.preprocessing import StandardScaler\n"
   ]
  },
  {
   "cell_type": "code",
   "execution_count": 26,
   "metadata": {
    "executionInfo": {
     "elapsed": 909,
     "status": "ok",
     "timestamp": 1602826973603,
     "user": {
      "displayName": "Francisco Diego",
      "photoUrl": "https://lh3.googleusercontent.com/a-/AOh14GgwQq94x1OCPd1nf0AYt7aqPyOxkGStnp-o2E0wxz0=s64",
      "userId": "03428838619161209840"
     },
     "user_tz": -120
    },
    "id": "sGbUEWR67T-T"
   },
   "outputs": [],
   "source": [
    "# your code here"
   ]
  },
  {
   "cell_type": "markdown",
   "metadata": {},
   "source": [
    "## **Exercise 8** . **Kmeans**. Fit a Kmeans with K=3 ( we have 3 species)"
   ]
  },
  {
   "cell_type": "code",
   "execution_count": 47,
   "metadata": {
    "executionInfo": {
     "elapsed": 1379,
     "status": "ok",
     "timestamp": 1602827047117,
     "user": {
      "displayName": "Francisco Diego",
      "photoUrl": "https://lh3.googleusercontent.com/a-/AOh14GgwQq94x1OCPd1nf0AYt7aqPyOxkGStnp-o2E0wxz0=s64",
      "userId": "03428838619161209840"
     },
     "user_tz": -120
    },
    "id": "xBNk6Zgj7ctW"
   },
   "outputs": [],
   "source": [
    "# your code here"
   ]
  },
  {
   "cell_type": "markdown",
   "metadata": {},
   "source": [
    "## **Exercise 9** . **Evaluation**. Evaluate the Kmeans with a classification_report and interpret the results"
   ]
  },
  {
   "cell_type": "markdown",
   "metadata": {},
   "source": [
    "## **Exercise 10** . **Elbow**. Make the Elbow Analysis to decide the best K"
   ]
  },
  {
   "cell_type": "code",
   "execution_count": 53,
   "metadata": {},
   "outputs": [],
   "source": [
    "#!pip install yellowbrick"
   ]
  },
  {
   "cell_type": "code",
   "execution_count": 54,
   "metadata": {},
   "outputs": [
    {
     "data": {
      "image/png": "[encoded data removed]",
      "text/plain": [
       "<Figure size 576x396 with 2 Axes>"
      ]
     },
     "metadata": {},
     "output_type": "display_data"
    },
    {
     "data": {
      "text/plain": [
       "<matplotlib.axes._subplots.AxesSubplot at 0x7f9a7b6864c0>"
      ]
     },
     "execution_count": 54,
     "metadata": {},
     "output_type": "execute_result"
    }
   ],
   "source": [
    "# your code here"
   ]
  }
 ],
 "metadata": {
  "colab": {
   "authorship_tag": "ABX9TyOMGL9xw6bAAgoUYQJ+LqAw",
   "name": "kmean_penguins.ipynb",
   "provenance": []
  },
  "kernelspec": {
   "display_name": "Python 3",
   "language": "python",
   "name": "python3"
  },
  "language_info": {
   "codemirror_mode": {
    "name": "ipython",
    "version": 3
   },
   "file_extension": ".py",
   "mimetype": "text/x-python",
   "name": "python",
   "nbconvert_exporter": "python",
   "pygments_lexer": "ipython3",
   "version": "3.8.3"
  }
 },
 "nbformat": 4,
 "nbformat_minor": 1
}
